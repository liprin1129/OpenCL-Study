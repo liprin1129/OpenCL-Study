{
 "cells": [
  {
   "cell_type": "markdown",
   "metadata": {},
   "source": [
    "# 1. Some Graph Terminology\n",
    "\n",
    "<p align=\"center\">\n",
    "<img src='Figs/Figure1.1.png' width=500>\n",
    "</p>\n",
    "\n",
    "- A graph $G$ consists of a vertex set $V$ and an edge set $E$.\n",
    "- $G = (V, E)$\n",
    "- the size of the vertex set = $\\mid V \\mid$\n",
    "- the size of the edge set = $\\mid E \\mid$\n",
    "- an edge is written as an ordered pair consisting of the vertices connected by the edge. \n",
    "- the ordered pair $(u, v)$ indicates the edge that connects vertex $u$ to vertex $v$.\n",
    "\n",
    "$$\n",
    "\\begin{aligned}\n",
    "V &= {a, b, c, d, e} \\\\\n",
    "E &= {(a, b), (a, d), (b, d), (c, a), (c, e), (d, c), (d, e)} \\\\\n",
    "G &= (V, E)\n",
    "\\end{aligned}\n",
    "$$"
   ]
  },
  {
   "cell_type": "markdown",
   "metadata": {},
   "source": [
    "- a graph can be directed or undirected\n",
    "- an edge of a directed graph is an ordered pair $(u, v)$ with $u$ as the source vertex and $v$ as the target vertex.\n",
    "- an undirected graph an edge, $(u, v)$ and $(v, u)$ are the same edge"
   ]
  },
  {
   "cell_type": "markdown",
   "metadata": {},
   "source": [
    "- an edge $(u, v)$, then vertex $v$ is said to be adjacent to vertex $u$.\n",
    "$$\n",
    "\\begin{aligned}\n",
    "Adjacent[a] &= {b, d} \\\\\n",
    "Adjacent[b] &= {d} \\\\\n",
    "Adjacent[c] &= {a, e} \\\\\n",
    "Adjacent[d] &= {c, e} \\\\\n",
    "Adjacent[e] &= \\{\\}\n",
    "\\end{aligned}\n",
    "$$"
   ]
  },
  {
   "cell_type": "markdown",
   "metadata": {},
   "source": [
    "- For a directed graph, edge $(u, v)$ is an out-edge of vertex $u$ and an in-edge of vertex $v$.\n",
    "\n",
    "$$\n",
    "\\begin{aligned}\n",
    "OutEdges[a] &= {(a, b), (a, d)} \\\\\n",
    "OutEdges[b] &= {(b, d)} \\\\\n",
    "OutEdges[c] &= {(c, a), (c, e)} \\\\\n",
    "OutEdges[d] &= {(d, c), (d, e)} \\\\\n",
    "OutEdges[e] &= \\{\\}\n",
    "\\end{aligned}\n",
    "$$\n",
    "\n",
    "$$\n",
    "\\begin{aligned}\n",
    "InEdges[a] &= {(c, a)} \\\\\n",
    "InEdges[b] &= {(a, b)} \\\\\n",
    "InEdges[c] &= {(d, c)} \\\\\n",
    "InEdges[d] &= {(a, d), (b, d)} \\\\\n",
    "InEdges[e] &= {(c, e), (d, e)}\n",
    "\\end{aligned}\n",
    "$$"
   ]
  },
  {
   "cell_type": "markdown",
   "metadata": {},
   "source": [
    "# 2. Graph Concepts\n",
    "## 2.1. Vertex and Edge Descriptors\n",
    "\n",
    "- vertices and edges are manipulated through opaque handles called *vertex descriptors* and *edge descriptors*\n",
    "- different graph types may use different types for their descriptors\n",
    "- the descriptor types for a graph type are always accessible through ***graph\\_traits*** class\n",
    "- The following function template 2 shows an implementation a generic function that determines if an edge is a self-loop.\n",
    "\n",
    "```C++\n",
    "template <typename Graph>\n",
    "bool is_self_loop(typename graph_traits<Graph>::edge descriptor e, const Graph& g)\n",
    "{\n",
    "typename graph_traits<Graph>::vertex_descriptor u, v;\n",
    "u = source(e, g);\n",
    "v = target(e, g);\n",
    "return u == v;\n",
    "}\n",
    "```"
   ]
  }
 ],
 "metadata": {
  "kernelspec": {
   "display_name": "Python 3",
   "language": "python",
   "name": "python3"
  },
  "language_info": {
   "codemirror_mode": {
    "name": "ipython",
    "version": 3
   },
   "file_extension": ".py",
   "mimetype": "text/x-python",
   "name": "python",
   "nbconvert_exporter": "python",
   "pygments_lexer": "ipython3",
   "version": "3.5.0"
  }
 },
 "nbformat": 4,
 "nbformat_minor": 2
}
